{
 "cells": [
  {
   "cell_type": "markdown",
   "id": "638ce30c",
   "metadata": {},
   "source": [
    "#H1 Data Science Tools and Ecosystem"
   ]
  },
  {
   "cell_type": "markdown",
   "id": "1de85865",
   "metadata": {},
   "source": [
    "#H1 Data Science Tools and Ecosystem"
   ]
  },
  {
   "cell_type": "markdown",
   "id": "e130e355",
   "metadata": {},
   "source": [
    "#H1Data Science Tools and Ecosystem"
   ]
  },
  {
   "cell_type": "markdown",
   "id": "0ca680cb",
   "metadata": {},
   "source": [
    "# H1: Data Science Tools and Ecosystem"
   ]
  },
  {
   "cell_type": "markdown",
   "id": "b319b077",
   "metadata": {},
   "source": [
    "In this notebook, Data Science Tools and Ecosystem are summarized."
   ]
  },
  {
   "cell_type": "markdown",
   "id": "5432e353",
   "metadata": {},
   "source": [
    "Some of the popular languages that Data Scientists use are:\n",
    "1. Python\n",
    "2. Java\n",
    "3. R"
   ]
  },
  {
   "cell_type": "markdown",
   "id": "495d2f5a",
   "metadata": {},
   "source": [
    "Some of the commonly used libraries used by Data Scientists include:\n",
    "1. NumPy\n",
    "2. SciPy\n",
    "3. Tenserflow"
   ]
  },
  {
   "cell_type": "markdown",
   "id": "8c9bbbc5",
   "metadata": {},
   "source": [
    "| Data Science Tools |\n",
    "| -------------------|\n",
    "| Apache Spark |\n",
    "| Jupyter Notebook |\n",
    "| Kibana |\n"
   ]
  },
  {
   "cell_type": "markdown",
   "id": "4fa88efe",
   "metadata": {},
   "source": [
    "### : Below are a few examples of evaluating arithmetic expressions in Python:\n",
    "\n",
    "1. +\n",
    "2. -\n",
    "3. *\n",
    "4. /\n"
   ]
  },
  {
   "cell_type": "markdown",
   "id": "1635324c",
   "metadata": {},
   "source": [
    "### Below are a few examples of evaluating arithmetic expressions in Python"
   ]
  },
  {
   "cell_type": "code",
   "execution_count": 3,
   "id": "236a09e2",
   "metadata": {},
   "outputs": [
    {
     "data": {
      "text/plain": [
       "17"
      ]
     },
     "execution_count": 3,
     "metadata": {},
     "output_type": "execute_result"
    }
   ],
   "source": [
    "#This a simple arithmetic expression to mutiply then add integers\n",
    "(3*4)+5"
   ]
  },
  {
   "cell_type": "code",
   "execution_count": 4,
   "id": "010b8ab7",
   "metadata": {},
   "outputs": [
    {
     "data": {
      "text/plain": [
       "3.3333333333333335"
      ]
     },
     "execution_count": 4,
     "metadata": {},
     "output_type": "execute_result"
    }
   ],
   "source": [
    "#This will convert 200 minutes to hours by dividng by 60\n",
    "200/60"
   ]
  },
  {
   "cell_type": "markdown",
   "id": "f141636b",
   "metadata": {},
   "source": [
    "In this notebook, Data Science Tools and Ecosystem are summarized.\n",
    "**Objectives:**\n",
    "-List popular languages for Data Science\n",
    "-Evaluating arithmetic expressions in Python\n",
    "-List of Popular Data Science Tools\n"
   ]
  },
  {
   "cell_type": "markdown",
   "id": "4d5f29b0",
   "metadata": {},
   "source": [
    "In this notebook, Data Science Tools and Ecosystem are summarized. \n",
    "\n",
    "**Objectives:** \n",
    "\n",
    "-List popular languages for Data Science \n",
    "-Evaluating arithmetic expressions in Python \n",
    "-List of Popular Data Science Tools"
   ]
  },
  {
   "cell_type": "code",
   "execution_count": 5,
   "id": "ccacd903",
   "metadata": {},
   "outputs": [
    {
     "ename": "SyntaxError",
     "evalue": "invalid syntax (2656220254.py, line 1)",
     "output_type": "error",
     "traceback": [
      "\u001b[1;36m  Cell \u001b[1;32mIn[5], line 1\u001b[1;36m\u001b[0m\n\u001b[1;33m    In this notebook, Data Science Tools and Ecosystem are summarized.\u001b[0m\n\u001b[1;37m       ^\u001b[0m\n\u001b[1;31mSyntaxError\u001b[0m\u001b[1;31m:\u001b[0m invalid syntax\n"
     ]
    }
   ],
   "source": [
    "In this notebook, Data Science Tools and Ecosystem are summarized. \n",
    "\n",
    "**Objectives:** \n",
    "\n",
    "- List popular languages for Data Science \n",
    "- Evaluating arithmetic expressions in Python \n",
    "- List of Popular Data Science Tools"
   ]
  },
  {
   "cell_type": "markdown",
   "id": "90b251fd",
   "metadata": {},
   "source": [
    "In this notebook, Data Science Tools and Ecosystem are summarized. \n",
    "\n",
    "**Objectives:** \n",
    "\n",
    "- List popular languages for Data Science \n",
    "- Evaluating arithmetic expressions in Python \n",
    "- List of Popular Data Science Tools"
   ]
  },
  {
   "cell_type": "markdown",
   "id": "748fcce9",
   "metadata": {},
   "source": [
    "## Author\n",
    "Nirman Pradhan"
   ]
  },
  {
   "cell_type": "code",
   "execution_count": null,
   "id": "d4051396",
   "metadata": {},
   "outputs": [],
   "source": []
  }
 ],
 "metadata": {
  "kernelspec": {
   "display_name": "Python 3 (ipykernel)",
   "language": "python",
   "name": "python3"
  },
  "language_info": {
   "codemirror_mode": {
    "name": "ipython",
    "version": 3
   },
   "file_extension": ".py",
   "mimetype": "text/x-python",
   "name": "python",
   "nbconvert_exporter": "python",
   "pygments_lexer": "ipython3",
   "version": "3.11.5"
  }
 },
 "nbformat": 4,
 "nbformat_minor": 5
}
